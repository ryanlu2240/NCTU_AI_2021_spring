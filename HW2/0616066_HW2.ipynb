{
 "cells": [
  {
   "cell_type": "markdown",
   "metadata": {},
   "source": [
    "## Load data"
   ]
  },
  {
   "cell_type": "code",
   "execution_count": 1,
   "metadata": {},
   "outputs": [],
   "source": [
    "import numpy as np\n",
    "import pandas as pd\n",
    "import math\n",
    "from sklearn.datasets import load_breast_cancer\n",
    "import random\n",
    "import math"
   ]
  },
  {
   "cell_type": "code",
   "execution_count": 2,
   "metadata": {},
   "outputs": [
    {
     "name": "stdout",
     "output_type": "stream",
     "text": [
      "['mean radius' 'mean texture' 'mean perimeter' 'mean area'\n",
      " 'mean smoothness' 'mean compactness' 'mean concavity'\n",
      " 'mean concave points' 'mean symmetry' 'mean fractal dimension'\n",
      " 'radius error' 'texture error' 'perimeter error' 'area error'\n",
      " 'smoothness error' 'compactness error' 'concavity error'\n",
      " 'concave points error' 'symmetry error' 'fractal dimension error'\n",
      " 'worst radius' 'worst texture' 'worst perimeter' 'worst area'\n",
      " 'worst smoothness' 'worst compactness' 'worst concavity'\n",
      " 'worst concave points' 'worst symmetry' 'worst fractal dimension']\n"
     ]
    }
   ],
   "source": [
    "data = load_breast_cancer()\n",
    "feature_names = data['feature_names']\n",
    "print(feature_names)"
   ]
  },
  {
   "cell_type": "code",
   "execution_count": 5,
   "metadata": {},
   "outputs": [],
   "source": [
    "x_train = pd.read_csv(\"x_train.csv\")\n",
    "y_train = pd.read_csv(\"y_train.csv\")\n",
    "x_test = pd.read_csv(\"x_test.csv\")\n",
    "y_test = pd.read_csv(\"y_test.csv\")\n",
    "y_train= y_train.iloc[:,0]"
   ]
  },
  {
   "cell_type": "markdown",
   "metadata": {},
   "source": [
    "### Gini Index and Entropy implementation "
   ]
  },
  {
   "cell_type": "code",
   "execution_count": 6,
   "metadata": {},
   "outputs": [],
   "source": [
    "def gini(sequence):\n",
    "    gini=0.0\n",
    "    unique, counts = np.unique(sequence, return_counts=True)\n",
    "    for i in range(len(unique)):\n",
    "        gini = gini + ((counts[i]/len(sequence))**2)\n",
    "    gini = 1 - gini\n",
    "    return gini\n",
    "\n",
    "def entropy(sequence):\n",
    "    entropy = 0.0\n",
    "    unique, counts = np.unique(sequence, return_counts=True)\n",
    "    for i in range(len(unique)):\n",
    "        entropy = entropy + (-1 * math.log((counts[i]/len(sequence)),2) * (counts[i]/len(sequence)))\n",
    "    return entropy\n",
    "\n",
    "def gini_index(left, right):\n",
    "    gini_left = gini(left)\n",
    "    gini_right = gini(right)\n",
    "    weight_right = len(right) / (len(right) + len(left))\n",
    "    weight_left = len(left) / (len(right) + len(left))\n",
    "    gini_index = gini_left * weight_left + gini_right * weight_right\n",
    "    return gini_index\n",
    "\n",
    "def entropy_index(left, right):\n",
    "    entropy_left = entropy(left)\n",
    "    entropy_right = entropy(right)\n",
    "    weight_right = len(right) / (len(right) + len(left))\n",
    "    weight_left = len(left) / (len(right) + len(left))\n",
    "    entropy_index = entropy_left * weight_left + entropy_right * weight_right\n",
    "    return entropy_index\n",
    "        "
   ]
  },
  {
   "cell_type": "code",
   "execution_count": 7,
   "metadata": {},
   "outputs": [],
   "source": [
    "# 1 = class 1,\n",
    "# 2 = class 2\n",
    "data = np.array([1,1,1,1,1,1,1,2,2,2,2])"
   ]
  },
  {
   "cell_type": "code",
   "execution_count": 8,
   "metadata": {},
   "outputs": [
    {
     "name": "stdout",
     "output_type": "stream",
     "text": [
      "Gini of data is  0.4628099173553719\n"
     ]
    }
   ],
   "source": [
    "print(\"Gini of data is \", gini(data))"
   ]
  },
  {
   "cell_type": "code",
   "execution_count": 9,
   "metadata": {},
   "outputs": [
    {
     "name": "stdout",
     "output_type": "stream",
     "text": [
      "Entropy of data is  0.9456603046006402\n"
     ]
    }
   ],
   "source": [
    "print(\"Entropy of data is \", entropy(data))"
   ]
  },
  {
   "cell_type": "markdown",
   "metadata": {},
   "source": [
    "Decision Tree algorithm Implementation (CART, Classification and Regression Trees) and trained the model by the given arguments, and print the accuracy score on the test data.\n",
    "\n",
    "arguments:\n",
    "1. **Criterion**: The function to measure the quality of a split. Your model should support “gini” for the Gini impurity and “entropy” for the information gain. \n",
    "2. **Max_depth**: The maximum depth of the tree. If Max_depth=None, then nodes are expanded until all leaves are pure. Max_depth=1 equals to split data once\n"
   ]
  },
  {
   "cell_type": "code",
   "execution_count": 10,
   "metadata": {},
   "outputs": [],
   "source": [
    "def test_spilt(x_train, col, value):\n",
    "    left_index = []\n",
    "    right_index = []\n",
    "    for i in range(x_train.shape[0]):\n",
    "        if x_train.iloc[i, col] < value:\n",
    "            left_index.append(i)\n",
    "        else:\n",
    "            right_index.append(i)\n",
    "    return left_index, right_index\n",
    "\n",
    "def get_spilt(x_train, y_train, criterion, max_feature):\n",
    "    y_train = y_train.to_frame()\n",
    "    column, value, score, left_x, right_x, left_y, right_y = 999, 999, 999, None, None, None, None\n",
    "    if criterion == 'entropy':\n",
    "        score = 0\n",
    "    left_index, right_index = [], []\n",
    "    if max_feature == 0:\n",
    "        col_index = range(x_train.shape[1])\n",
    "    else:\n",
    "        col_index = random.sample(range(x_train.shape[1]), math.floor(max_feature))\n",
    "    for col in col_index:\n",
    "        unque_value, unique_index = np.unique(x_train.iloc[:, col], return_index=True) \n",
    "        for row in unique_index:\n",
    "            left_index, right_index = test_spilt(x_train, col, x_train.iloc[row, col])\n",
    "            t_left_y = y_train.iloc[left_index, 0].reset_index(drop=True)\n",
    "            t_right_y = y_train.iloc[right_index, 0].reset_index(drop=True)\n",
    "            if criterion == 'gini':\n",
    "                t_score = gini_index(t_left_y, t_right_y)\n",
    "                if t_score < score:\n",
    "                    column, value, score, left_y, right_y = col, x_train.iloc[row, col], t_score, t_left_y, t_right_y\n",
    "                    left_x = x_train.iloc[left_index, :].reset_index(drop=True)\n",
    "                    right_x = x_train.iloc[right_index, :].reset_index(drop=True)\n",
    "            else:\n",
    "                t_score = entropy(y_train) - entropy_index(t_left_y, t_right_y)\n",
    "                if t_score > score:\n",
    "                    column, value, score, left_y, right_y = col, x_train.iloc[row, col], t_score, t_left_y, t_right_y\n",
    "                    left_x = x_train.iloc[left_index, :].reset_index(drop=True)\n",
    "                    right_x = x_train.iloc[right_index, :].reset_index(drop=True)\n",
    "    return {'column':column, 'value':value, 'score':score, 'left_x':left_x, 'right_x':right_x, 'left_y':left_y, 'right_y':right_y, 'x':x_train, 'y':y_train}\n",
    "\n",
    "def leaf_node(y_data):\n",
    "    unique, count = np.unique(y_data,return_counts=True)\n",
    "    count = list(count)\n",
    "    index = count.index(max(count))\n",
    "    return unique[index]\n",
    "\n",
    "def spilt(node, criterion, max_depth, max_feature, depth):\n",
    "    left_x = node['left_x']\n",
    "    left_y = node['left_y']\n",
    "    right_x = node['right_x']\n",
    "    right_y = node['right_y']\n",
    "    #check for no spilt\n",
    "    if left_x.empty or right_x.empty:\n",
    "        #print(depth,'return brcause no spilt')\n",
    "        node['left'] = leaf_node(left_y + right_y)\n",
    "        node['right'] = leaf_node(left_y + right_y)\n",
    "        return\n",
    "    #check for max depth\n",
    "    if max_depth is not None and depth >= max_depth:\n",
    "        #print(depth,'return because max_gepth')\n",
    "        node['left'] = leaf_node(left_y)\n",
    "        node['right'] = leaf_node(right_y)\n",
    "        return\n",
    "    #check for left pure\n",
    "    if gini(node['left_y']) == 0:\n",
    "        #print(depth,'left pure!!')\n",
    "        node['left'] = leaf_node(left_y)\n",
    "    else:\n",
    "        #print(depth,'process left spilt')\n",
    "        node['left'] = get_spilt(left_x, left_y, criterion, max_feature)\n",
    "        spilt(node['left'],criterion, max_depth, max_feature, depth+1)\n",
    "    #check for right pure\n",
    "    if gini(node['right_y']) == 0:\n",
    "        #print(depth,'right pure!!')\n",
    "        node['right'] = leaf_node(right_y)\n",
    "    else:\n",
    "        #print(depth,'process right spilt')\n",
    "        node['right'] = get_spilt(right_x, right_y, criterion, max_feature)\n",
    "        spilt(node['right'],criterion, max_depth, max_feature, depth+1)\n",
    "    return\n",
    "        \n"
   ]
  },
  {
   "cell_type": "code",
   "execution_count": 11,
   "metadata": {},
   "outputs": [],
   "source": [
    "class DecisionTree():\n",
    "    def __init__(self, criterion='gini', max_depth=None, max_features=0):\n",
    "        self.criterion = criterion\n",
    "        self.max_depth = max_depth\n",
    "        self.max_features = max_features\n",
    "        return None\n",
    "    def build_tree(self, x_train, y_train):\n",
    "        root = get_spilt(x_train, y_train, self.criterion, self.max_features)\n",
    "        spilt(root, self.criterion, self.max_depth, self.max_features, 1)\n",
    "        return root\n",
    "    \n",
    "def prediction(root, row):\n",
    "    idx = root['column']\n",
    "    val = root['value']\n",
    "    if row[idx] < val:\n",
    "        if type(root['left']) == dict:\n",
    "            return prediction(root['left'], row)\n",
    "        else:\n",
    "            return root['left']\n",
    "    else:\n",
    "        if type(root['right']) == dict:\n",
    "            return prediction(root['right'], row)\n",
    "        else:\n",
    "            return root['right']\n",
    "def pred(root, x_test):\n",
    "    ans = []\n",
    "    for i in range(np.shape(x_test)[0]):\n",
    "        row = x_test.iloc[i, :]\n",
    "        pred = prediction(root, row)\n",
    "        ans.append(pred)\n",
    "    return ans"
   ]
  },
  {
   "cell_type": "markdown",
   "metadata": {},
   "source": [
    "#### Using Criterion=‘gini’, showing the accuracy score of test data by Max_depth=3 and Max_depth=10, respectively.\n"
   ]
  },
  {
   "cell_type": "code",
   "execution_count": 12,
   "metadata": {},
   "outputs": [
    {
     "name": "stdout",
     "output_type": "stream",
     "text": [
      "acc_depth3:  0.9300699300699301\n",
      "acc_depth10:  0.9300699300699301\n"
     ]
    }
   ],
   "source": [
    "from sklearn.metrics import accuracy_score\n",
    "\n",
    "clf_depth3 = DecisionTree(criterion='gini', max_depth=3, max_features=0)\n",
    "tree_depth3 = clf_depth3.build_tree(x_train, y_train)\n",
    "pred_depth3 = pred(tree_depth3, x_test)\n",
    "acc_depth3 = accuracy_score(y_test, pred_depth3) \n",
    "\n",
    "clf_depth10 = DecisionTree(criterion='gini', max_depth=10, max_features=0)\n",
    "tree_depth10 = clf_depth10.build_tree(x_train, y_train)\n",
    "pred_depth10 = pred(tree_depth10, x_test)\n",
    "acc_depth10 = accuracy_score(y_test, pred_depth10) \n",
    "\n",
    "print('acc_depth3: ', acc_depth3)\n",
    "print('acc_depth10: ', acc_depth10)"
   ]
  },
  {
   "cell_type": "markdown",
   "metadata": {},
   "source": [
    "#### Using Max_depth=3, showing the accuracy score of test data by Criterion=‘gini’ and Criterion=’entropy’, respectively.\n"
   ]
  },
  {
   "cell_type": "code",
   "execution_count": 14,
   "metadata": {},
   "outputs": [
    {
     "name": "stdout",
     "output_type": "stream",
     "text": [
      "acc_gini:  0.9300699300699301\n",
      "acc_entropy:  0.9440559440559441\n"
     ]
    }
   ],
   "source": [
    "clf_gini = DecisionTree(criterion='gini', max_depth=3, max_features=0)\n",
    "tree_gini = clf_gini.build_tree(x_train, y_train)\n",
    "pred_gini = pred(tree_gini, x_test)\n",
    "acc_gini = accuracy_score(y_test, pred_gini) \n",
    "\n",
    "\n",
    "clf_entropy = DecisionTree(criterion='entropy', max_depth=3, max_features=0)\n",
    "tree_entropy = clf_entropy.build_tree(x_train, y_train)\n",
    "pred_entropy = pred(tree_entropy, x_test)\n",
    "acc_entropy = accuracy_score(y_test, pred_entropy) \n",
    "\n",
    "print('acc_gini: ', acc_gini)\n",
    "print('acc_entropy: ', acc_entropy)"
   ]
  },
  {
   "cell_type": "markdown",
   "metadata": {},
   "source": [
    "\n",
    "#### Plot the feature importance of your Decision Tree model. You can get the feature importance by counting the feature used for splitting data."
   ]
  },
  {
   "cell_type": "code",
   "execution_count": 15,
   "metadata": {},
   "outputs": [
    {
     "data": {
      "image/png": "[encoded data removed]",
      "text/plain": [
       "<Figure size 1440x720 with 1 Axes>"
      ]
     },
     "metadata": {
      "needs_background": "light"
     },
     "output_type": "display_data"
    }
   ],
   "source": [
    "import matplotlib.pyplot as plt\n",
    "\n",
    "def feature_importance(node, importance_list, criterion):\n",
    "    if type(node) == dict:\n",
    "        col = node['column']\n",
    "        y = node['y']\n",
    "        size = len(y)\n",
    "        if criterion == 'gini':\n",
    "            importance_score = size * (gini(y) - node['score'])\n",
    "            importance_list[col] = importance_list[col] + importance_score\n",
    "            feature_importance(node['left'], importance_list, 'gini')\n",
    "            feature_importance(node['right'], importance_list, 'gini')\n",
    "        else:\n",
    "            importance_score = size * node['score']\n",
    "            importance_list[col] = importance_list[col] + importance_score\n",
    "            feature_importance(node['left'], importance_list, 'entropy')\n",
    "            feature_importance(node['right'], importance_list, 'entropy')\n",
    "\n",
    "        return None\n",
    "    else: \n",
    "        return None\n",
    "    \n",
    "importance_list = [0] * np.shape(x_train)[1]\n",
    "feature_importance(tree_gini, importance_list, 'gini')\n",
    "importance_list = importance_list/sum(importance_list)\n",
    "\n",
    "col_name = list(x_train.columns)\n",
    "index = np.arange(len(col_name))\n",
    "fig, ax = plt.subplots(figsize = (20,10))\n",
    "ax.barh(index, importance_list)\n",
    "ax.set_yticks(index)\n",
    "ax.set_yticklabels(col_name)\n",
    "plt.show()\n"
   ]
  },
  {
   "cell_type": "markdown",
   "metadata": {},
   "source": [
    "Random Forest implementation by using the CART you just implemented from question 2. You should implement two arguments for the Random Forest.\n",
    "\n",
    "arguments:\n",
    "1. **N_estimators**: The number of trees in the forest. \n",
    "2. **Max_features**: The number of random select features to consider when looking for the best split\n",
    "3. **Bootstrap**: Whether bootstrap samples are used when building tree\n"
   ]
  },
  {
   "cell_type": "code",
   "execution_count": 16,
   "metadata": {},
   "outputs": [],
   "source": [
    "class RandomForest():\n",
    "    def __init__(self, n_estimators, max_features, boostrap=True, criterion='gini', max_depth=None):\n",
    "        self.n_estimators = n_estimators\n",
    "        self.max_features = max_features\n",
    "        self.boostrap = boostrap\n",
    "        self.criterion = criterion\n",
    "        self.max_depth = max_depth\n",
    "        return None\n",
    "\n",
    "    def build_forest(self, x_train, y_train):\n",
    "        forest = []\n",
    "        for i in range(self.n_estimators):\n",
    "            #print(i,'th tree')\n",
    "            row_list = range(np.shape(x_train)[0])\n",
    "            row_index = random.choices(row_list, k=np.shape(x_train)[0])\n",
    "            boostrap_x = x_train.iloc[row_index, :].reset_index(drop=True)\n",
    "            boostrap_y = y_train.iloc[row_index].reset_index(drop=True)\n",
    "            decisiontree = DecisionTree(criterion=self.criterion, max_depth=self.max_depth, max_features=self.max_features)\n",
    "            tree = decisiontree.build_tree(boostrap_x, boostrap_y)\n",
    "            forest.append(tree)\n",
    "        return forest\n",
    "    \n",
    "    def build_forest_randboost(self, x_train, y_train):\n",
    "        forest = []\n",
    "        for i in range(self.n_estimators):\n",
    "            #print(i,'th tree')\n",
    "            row_list = range(np.shape(x_train)[0])\n",
    "            row_index = random.choices(row_list, k=random.randint(1,np.shape(x_train)[0]))\n",
    "            boostrap_x = x_train.iloc[row_index, :].reset_index(drop=True)\n",
    "            boostrap_y = y_train.iloc[row_index].reset_index(drop=True)\n",
    "            decisiontree = DecisionTree(criterion=self.criterion, max_depth=self.max_depth, max_features=self.max_features)\n",
    "            tree = decisiontree.build_tree(boostrap_x, boostrap_y)\n",
    "            forest.append(tree)\n",
    "        return forest\n",
    "\n",
    "            "
   ]
  },
  {
   "cell_type": "markdown",
   "metadata": {},
   "source": [
    "#### Using Criterion=‘gini’, Max_depth=None, Max_features=sqrt(n_features), showing the accuracy score of test data by n_estimators=10 and n_estimators=100, respectively.\n",
    "\n"
   ]
  },
  {
   "cell_type": "code",
   "execution_count": 17,
   "metadata": {},
   "outputs": [
    {
     "name": "stdout",
     "output_type": "stream",
     "text": [
      "10_forest acc:  0.9440559440559441\n",
      "100_forest acc:  0.9230769230769231\n"
     ]
    }
   ],
   "source": [
    "clf_10tree = RandomForest(n_estimators=10, max_features=np.sqrt(x_train.shape[1]))\n",
    "clf_10forest = clf_10tree.build_forest(x_train, y_train)\n",
    "clf_10forest_prediction = []\n",
    "for tree in clf_10forest:\n",
    "    clf_10forest_prediction.append(pred(tree, x_test))\n",
    "clf_10forest_prediction = pd.DataFrame(clf_10forest_prediction)\n",
    "clf_10tree_prediction = []\n",
    "for cols in range(np.shape(clf_10forest_prediction)[1]):\n",
    "    col = clf_10forest_prediction.iloc[:,cols]\n",
    "    unique, counts = np.unique(col, return_counts=True)\n",
    "    unique=list(unique)\n",
    "    counts=list(counts)\n",
    "    clf_10tree_prediction.append(unique[counts.index(max(counts))])\n",
    "acc_clf_10forest = accuracy_score(y_test, clf_10tree_prediction) \n",
    "\n",
    "print('10_forest acc: ',acc_clf_10forest)\n",
    "\n",
    "clf_100tree = RandomForest(n_estimators=100, max_features=np.sqrt(x_train.shape[1]))\n",
    "clf_100forest = clf_100tree.build_forest(x_train, y_train)\n",
    "clf_100forest_prediction = []\n",
    "for tree in clf_100forest:\n",
    "    clf_100forest_prediction.append(pred(tree, x_test))\n",
    "clf_100forest_prediction = pd.DataFrame(clf_100forest_prediction)\n",
    "clf_100tree_prediction = []\n",
    "for cols in range(np.shape(clf_100forest_prediction)[1]):\n",
    "    col = clf_100forest_prediction.iloc[:,cols]\n",
    "    unique, counts = np.unique(col, return_counts=True)\n",
    "    unique=list(unique)\n",
    "    counts=list(counts)\n",
    "    clf_100tree_prediction.append(unique[counts.index(max(counts))])\n",
    "acc_clf_100forest = accuracy_score(y_test, clf_100tree_prediction) \n",
    "\n",
    "print('100_forest acc: ',acc_clf_100forest)"
   ]
  },
  {
   "cell_type": "markdown",
   "metadata": {},
   "source": [
    "#### Using Criterion=‘gini’, Max_depth=None, N_estimators=10, showing the accuracy score of test data by Max_features=sqrt(n_features) and Max_features=n_features, respectively.\n"
   ]
  },
  {
   "cell_type": "code",
   "execution_count": 18,
   "metadata": {},
   "outputs": [
    {
     "name": "stdout",
     "output_type": "stream",
     "text": [
      "random_features acc:  0.958041958041958\n",
      "all_features acc:  0.9440559440559441\n"
     ]
    }
   ],
   "source": [
    "clf_random_features = RandomForest(n_estimators=10, max_features=np.sqrt(x_train.shape[1]))\n",
    "clf_random_features_forest = clf_random_features.build_forest(x_train, y_train)\n",
    "clf_random_features_forest_prediction = []\n",
    "for tree in clf_random_features_forest:\n",
    "    clf_random_features_forest_prediction.append(pred(tree, x_test))\n",
    "clf_random_features_forest_prediction = pd.DataFrame(clf_random_features_forest_prediction)\n",
    "clf_random_features_prediction = []\n",
    "for cols in range(np.shape(clf_random_features_forest_prediction)[1]):\n",
    "    col = clf_random_features_forest_prediction.iloc[:,cols]\n",
    "    unique, counts = np.unique(col, return_counts=True)\n",
    "    unique=list(unique)\n",
    "    counts=list(counts)\n",
    "    clf_random_features_prediction.append(unique[counts.index(max(counts))])\n",
    "acc_clf_random_features = accuracy_score(y_test, clf_random_features_prediction) \n",
    "\n",
    "print('random_features acc: ', acc_clf_random_features)\n",
    "\n",
    "\n",
    "clf_all_features = RandomForest(n_estimators=10, max_features=x_train.shape[1])\n",
    "clf_all_features_forest = clf_all_features.build_forest(x_train, y_train)\n",
    "clf_all_features_forest_prediction = []\n",
    "for tree in clf_all_features_forest:\n",
    "    clf_all_features_forest_prediction.append(pred(tree, x_test))\n",
    "clf_all_features_forest_prediction = pd.DataFrame(clf_all_features_forest_prediction)\n",
    "clf_all_features_prediction = []\n",
    "for cols in range(np.shape(clf_all_features_forest_prediction)[1]):\n",
    "    col = clf_all_features_forest_prediction.iloc[:,cols]\n",
    "    unique, counts = np.unique(col, return_counts=True)\n",
    "    unique=list(unique)\n",
    "    counts=list(counts)\n",
    "    clf_all_features_prediction.append(unique[counts.index(max(counts))])\n",
    "acc_clf_all_features = accuracy_score(y_test, clf_all_features_prediction) \n",
    "\n",
    "print('all_features acc: ', acc_clf_all_features)"
   ]
  }
 ],
 "metadata": {
  "kernelspec": {
   "display_name": "Python 3",
   "language": "python",
   "name": "python3"
  },
  "language_info": {
   "codemirror_mode": {
    "name": "ipython",
    "version": 3
   },
   "file_extension": ".py",
   "mimetype": "text/x-python",
   "name": "python",
   "nbconvert_exporter": "python",
   "pygments_lexer": "ipython3",
   "version": "3.7.6"
  }
 },
 "nbformat": 4,
 "nbformat_minor": 4
}
